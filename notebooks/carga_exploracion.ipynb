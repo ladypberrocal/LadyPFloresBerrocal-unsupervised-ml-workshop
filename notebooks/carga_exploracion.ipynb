{
 "cells": [
  {
   "cell_type": "code",
   "execution_count": null,
   "id": "de910f8f",
   "metadata": {},
   "outputs": [],
   "source": [
    "# TALLER DE MACHINE LEARNING NO SUPERVISADO - DATASET DE SETAS\n",
    "# ====================================================================\n",
    "# PARTE 1: CARGA Y EXPLORACIÓN DE DATOS\n"
   ]
  },
  {
   "cell_type": "code",
   "execution_count": 20,
   "id": "19a9190f",
   "metadata": {},
   "outputs": [
    {
     "name": "stdout",
     "output_type": "stream",
     "text": [
      "✅ Librerías importadas correctamente\n",
      "======================================================================\n"
     ]
    }
   ],
   "source": [
    "# ============================================================================\n",
    "# 📦 IMPORTACIÓN DE LIBRERÍAS\n",
    "# ============================================================================\n",
    "# Estas son las herramientas que vamos a usar para trabajar con los datos\n",
    "\n",
    "# Para manipulación de datos (como Excel pero más poderoso)\n",
    "import pandas as pd\n",
    "import numpy as np\n",
    "\n",
    "# Para crear gráficos y visualizaciones bonitas\n",
    "import matplotlib.pyplot as plt\n",
    "import seaborn as sns\n",
    "import plotly.express as px\n",
    "import plotly.graph_objects as go\n",
    "\n",
    "# Para ignorar advertencias molestas que no afectan nuestro código\n",
    "import warnings\n",
    "warnings.filterwarnings('ignore')\n",
    "\n",
    "# Configuración para que los gráficos se vean mejor\n",
    "plt.style.use('seaborn-v0_8-darkgrid')  # Estilo de los gráficos\n",
    "sns.set_palette(\"husl\")  # Colores bonitos\n",
    "plt.rcParams['figure.figsize'] = (12, 6)  # Tamaño por defecto de gráficos\n",
    "\n",
    "print(\"✅ Librerías importadas correctamente\")\n",
    "print(\"=\"*70)"
   ]
  },
  {
   "cell_type": "code",
   "execution_count": 21,
   "id": "9d60f9e9",
   "metadata": {},
   "outputs": [
    {
     "name": "stdout",
     "output_type": "stream",
     "text": [
      "✅ Dataset cargado exitosamente desde UCI Repository\n",
      "📊 Dimensiones del dataset: 8124 filas x 23 columnas\n",
      "======================================================================\n"
     ]
    }
   ],
   "source": [
    "\n",
    "# ============================================================================\n",
    "# 📥 CARGA DEL DATASET\n",
    "# ============================================================================\n",
    "\"\"\"\n",
    "¿Qué es un dataset?\n",
    "Es como una tabla de Excel con información. En este caso, cada fila es un\n",
    "hongo diferente y cada columna es una característica (color, forma, olor, etc.)\n",
    "\"\"\"\n",
    "\n",
    "# Cargamos los datos desde un archivo CSV (Comma Separated Values)\n",
    "# CSV es como un archivo de texto donde los datos están separados por comas\n",
    "url = \"https://archive.ics.uci.edu/ml/machine-learning-databases/mushroom/agaricus-lepiota.data\"\n",
    "\n",
    "# Los nombres de las columnas no vienen en el archivo, así que los definimos\n",
    "columnas = [\n",
    "    'class',           # Clase: e=comestible, p=venenoso (TARGET)\n",
    "    'cap-shape',       # Forma del sombrero\n",
    "    'cap-surface',     # Superficie del sombrero\n",
    "    'cap-color',       # Color del sombrero\n",
    "    'bruises',         # ¿Tiene moretones/manchas?\n",
    "    'odor',            # Olor del hongo\n",
    "    'gill-attachment', # Tipo de unión de las láminas\n",
    "    'gill-spacing',    # Espaciado de las láminas\n",
    "    'gill-size',       # Tamaño de las láminas\n",
    "    'gill-color',      # Color de las láminas\n",
    "    'stalk-shape',     # Forma del tallo\n",
    "    'stalk-root',      # Tipo de raíz del tallo\n",
    "    'stalk-surface-above-ring',  # Superficie del tallo sobre el anillo\n",
    "    'stalk-surface-below-ring',  # Superficie del tallo bajo el anillo\n",
    "    'stalk-color-above-ring',    # Color del tallo sobre el anillo\n",
    "    'stalk-color-below-ring',    # Color del tallo bajo el anillo\n",
    "    'veil-type',       # Tipo de velo\n",
    "    'veil-color',      # Color del velo\n",
    "    'ring-number',     # Número de anillos\n",
    "    'ring-type',       # Tipo de anillo\n",
    "    'spore-print-color',  # Color de impresión de esporas\n",
    "    'population',      # Tamaño de población\n",
    "    'habitat'          # Hábitat donde crece\n",
    "]\n",
    "\n",
    "# Intentamos cargar el dataset\n",
    "try:\n",
    "    # header=None significa que no hay encabezados en el archivo\n",
    "    # names=columnas asigna los nombres que definimos arriba\n",
    "    df = pd.read_csv(url, header=None, names=columnas)\n",
    "    print(\"✅ Dataset cargado exitosamente desde UCI Repository\")\n",
    "    print(f\"📊 Dimensiones del dataset: {df.shape[0]} filas x {df.shape[1]} columnas\")\n",
    "except Exception as e:\n",
    "    print(f\"❌ Error al cargar el dataset: {e}\")\n",
    "    print(\"💡 Intenta descargarlo manualmente desde:\")\n",
    "    print(\"   https://archive.ics.uci.edu/dataset/73/mushroom\")\n",
    "\n",
    "print(\"=\"*70)\n"
   ]
  },
  {
   "cell_type": "code",
   "execution_count": 22,
   "id": "7b348c62",
   "metadata": {},
   "outputs": [
    {
     "name": "stdout",
     "output_type": "stream",
     "text": [
      "\n",
      "📋 PRIMERAS 10 FILAS DEL DATASET:\n",
      "======================================================================\n",
      "  class cap-shape cap-surface cap-color bruises odor gill-attachment  \\\n",
      "0     p         x           s         n       t    p               f   \n",
      "1     e         x           s         y       t    a               f   \n",
      "2     e         b           s         w       t    l               f   \n",
      "3     p         x           y         w       t    p               f   \n",
      "4     e         x           s         g       f    n               f   \n",
      "5     e         x           y         y       t    a               f   \n",
      "6     e         b           s         w       t    a               f   \n",
      "7     e         b           y         w       t    l               f   \n",
      "8     p         x           y         w       t    p               f   \n",
      "9     e         b           s         y       t    a               f   \n",
      "\n",
      "  gill-spacing gill-size gill-color  ... stalk-surface-below-ring  \\\n",
      "0            c         n          k  ...                        s   \n",
      "1            c         b          k  ...                        s   \n",
      "2            c         b          n  ...                        s   \n",
      "3            c         n          n  ...                        s   \n",
      "4            w         b          k  ...                        s   \n",
      "5            c         b          n  ...                        s   \n",
      "6            c         b          g  ...                        s   \n",
      "7            c         b          n  ...                        s   \n",
      "8            c         n          p  ...                        s   \n",
      "9            c         b          g  ...                        s   \n",
      "\n",
      "  stalk-color-above-ring stalk-color-below-ring veil-type veil-color  \\\n",
      "0                      w                      w         p          w   \n",
      "1                      w                      w         p          w   \n",
      "2                      w                      w         p          w   \n",
      "3                      w                      w         p          w   \n",
      "4                      w                      w         p          w   \n",
      "5                      w                      w         p          w   \n",
      "6                      w                      w         p          w   \n",
      "7                      w                      w         p          w   \n",
      "8                      w                      w         p          w   \n",
      "9                      w                      w         p          w   \n",
      "\n",
      "  ring-number ring-type spore-print-color population habitat  \n",
      "0           o         p                 k          s       u  \n",
      "1           o         p                 n          n       g  \n",
      "2           o         p                 n          n       m  \n",
      "3           o         p                 k          s       u  \n",
      "4           o         e                 n          a       g  \n",
      "5           o         p                 k          n       g  \n",
      "6           o         p                 k          n       m  \n",
      "7           o         p                 n          s       m  \n",
      "8           o         p                 k          v       g  \n",
      "9           o         p                 k          s       m  \n",
      "\n",
      "[10 rows x 23 columns]\n",
      "\n",
      "\n",
      "📋 ÚLTIMAS 5 FILAS DEL DATASET:\n",
      "======================================================================\n",
      "     class cap-shape cap-surface cap-color bruises odor gill-attachment  \\\n",
      "8119     e         k           s         n       f    n               a   \n",
      "8120     e         x           s         n       f    n               a   \n",
      "8121     e         f           s         n       f    n               a   \n",
      "8122     p         k           y         n       f    y               f   \n",
      "8123     e         x           s         n       f    n               a   \n",
      "\n",
      "     gill-spacing gill-size gill-color  ... stalk-surface-below-ring  \\\n",
      "8119            c         b          y  ...                        s   \n",
      "8120            c         b          y  ...                        s   \n",
      "8121            c         b          n  ...                        s   \n",
      "8122            c         n          b  ...                        k   \n",
      "8123            c         b          y  ...                        s   \n",
      "\n",
      "     stalk-color-above-ring stalk-color-below-ring veil-type veil-color  \\\n",
      "8119                      o                      o         p          o   \n",
      "8120                      o                      o         p          n   \n",
      "8121                      o                      o         p          o   \n",
      "8122                      w                      w         p          w   \n",
      "8123                      o                      o         p          o   \n",
      "\n",
      "     ring-number ring-type spore-print-color population habitat  \n",
      "8119           o         p                 b          c       l  \n",
      "8120           o         p                 b          v       l  \n",
      "8121           o         p                 b          c       l  \n",
      "8122           o         e                 w          v       l  \n",
      "8123           o         p                 o          c       l  \n",
      "\n",
      "[5 rows x 23 columns]\n",
      "\n",
      "\n",
      "📊 INFORMACIÓN GENERAL DEL DATASET:\n",
      "======================================================================\n",
      "<class 'pandas.core.frame.DataFrame'>\n",
      "RangeIndex: 8124 entries, 0 to 8123\n",
      "Data columns (total 23 columns):\n",
      " #   Column                    Non-Null Count  Dtype \n",
      "---  ------                    --------------  ----- \n",
      " 0   class                     8124 non-null   object\n",
      " 1   cap-shape                 8124 non-null   object\n",
      " 2   cap-surface               8124 non-null   object\n",
      " 3   cap-color                 8124 non-null   object\n",
      " 4   bruises                   8124 non-null   object\n",
      " 5   odor                      8124 non-null   object\n",
      " 6   gill-attachment           8124 non-null   object\n",
      " 7   gill-spacing              8124 non-null   object\n",
      " 8   gill-size                 8124 non-null   object\n",
      " 9   gill-color                8124 non-null   object\n",
      " 10  stalk-shape               8124 non-null   object\n",
      " 11  stalk-root                8124 non-null   object\n",
      " 12  stalk-surface-above-ring  8124 non-null   object\n",
      " 13  stalk-surface-below-ring  8124 non-null   object\n",
      " 14  stalk-color-above-ring    8124 non-null   object\n",
      " 15  stalk-color-below-ring    8124 non-null   object\n",
      " 16  veil-type                 8124 non-null   object\n",
      " 17  veil-color                8124 non-null   object\n",
      " 18  ring-number               8124 non-null   object\n",
      " 19  ring-type                 8124 non-null   object\n",
      " 20  spore-print-color         8124 non-null   object\n",
      " 21  population                8124 non-null   object\n",
      " 22  habitat                   8124 non-null   object\n",
      "dtypes: object(23)\n",
      "memory usage: 1.4+ MB\n",
      "\n",
      "\n",
      "📈 ESTADÍSTICAS DESCRIPTIVAS:\n",
      "======================================================================\n",
      "       class cap-shape cap-surface cap-color bruises  odor gill-attachment  \\\n",
      "count   8124      8124        8124      8124    8124  8124            8124   \n",
      "unique     2         6           4        10       2     9               2   \n",
      "top        e         x           y         n       f     n               f   \n",
      "freq    4208      3656        3244      2284    4748  3528            7914   \n",
      "\n",
      "       gill-spacing gill-size gill-color  ... stalk-surface-below-ring  \\\n",
      "count          8124      8124       8124  ...                     8124   \n",
      "unique            2         2         12  ...                        4   \n",
      "top               c         b          b  ...                        s   \n",
      "freq           6812      5612       1728  ...                     4936   \n",
      "\n",
      "       stalk-color-above-ring stalk-color-below-ring veil-type veil-color  \\\n",
      "count                    8124                   8124      8124       8124   \n",
      "unique                      9                      9         1          4   \n",
      "top                         w                      w         p          w   \n",
      "freq                     4464                   4384      8124       7924   \n",
      "\n",
      "       ring-number ring-type spore-print-color population habitat  \n",
      "count         8124      8124              8124       8124    8124  \n",
      "unique           3         5                 9          6       7  \n",
      "top              o         p                 w          v       d  \n",
      "freq          7488      3968              2388       4040    3148  \n",
      "\n",
      "[4 rows x 23 columns]\n"
     ]
    }
   ],
   "source": [
    "# ============================================================================\n",
    "# 👀 VISUALIZACIÓN GENERAL DEL DATASET\n",
    "# ============================================================================\n",
    "\"\"\"\n",
    "Ahora vamos a explorar cómo se ven nuestros datos. Es como abrir el archivo\n",
    "de Excel por primera vez para ver qué hay dentro.\n",
    "\"\"\"\n",
    "\n",
    "print(\"\\n📋 PRIMERAS 10 FILAS DEL DATASET:\")\n",
    "print(\"=\"*70)\n",
    "# .head(10) muestra las primeras 10 filas\n",
    "print(df.head(10))\n",
    "\n",
    "print(\"\\n\\n📋 ÚLTIMAS 5 FILAS DEL DATASET:\")\n",
    "print(\"=\"*70)\n",
    "# .tail(5) muestra las últimas 5 filas\n",
    "print(df.tail(5))\n",
    "\n",
    "print(\"\\n\\n📊 INFORMACIÓN GENERAL DEL DATASET:\")\n",
    "print(\"=\"*70)\n",
    "# .info() da un resumen: tipo de datos, valores no nulos, memoria usada\n",
    "df.info()\n",
    "\n",
    "print(\"\\n\\n📈 ESTADÍSTICAS DESCRIPTIVAS:\")\n",
    "print(\"=\"*70)\n",
    "# .describe() muestra estadísticas básicas de las columnas\n",
    "# include='all' incluye tanto columnas numéricas como categóricas\n",
    "print(df.describe(include='all'))\n"
   ]
  },
  {
   "cell_type": "code",
   "execution_count": 23,
   "id": "38d12d1a",
   "metadata": {},
   "outputs": [
    {
     "name": "stdout",
     "output_type": "stream",
     "text": [
      "\n",
      "\n",
      "🎯 DISTRIBUCIÓN DE LA VARIABLE OBJETIVO:\n",
      "======================================================================\n",
      "class\n",
      "e    4208\n",
      "p    3916\n",
      "Name: count, dtype: int64\n",
      "\n",
      "Porcentajes:\n",
      "Comestibles (e): 51.80%\n",
      "Venenosos (p): 48.20%\n"
     ]
    },
    {
     "data": {
      "image/png": "[encoded data removed]",
      "text/plain": [
       "<Figure size 1000x600 with 1 Axes>"
      ]
     },
     "metadata": {},
     "output_type": "display_data"
    },
    {
     "data": {
      "image/png": "[encoded data removed]",
      "text/plain": [
       "<Figure size 800x800 with 1 Axes>"
      ]
     },
     "metadata": {},
     "output_type": "display_data"
    },
    {
     "data": {
      "application/vnd.plotly.v1+json": {
       "config": {
        "plotlyServerURL": "https://plot.ly"
       },
       "data": [
        {
         "domain": {
          "x": [
           0,
           1
          ],
          "y": [
           0,
           1
          ]
         },
         "hole": 0.3,
         "hovertemplate": "label=%{label}<br>value=%{value}<extra></extra>",
         "labels": [
          "Comestible",
          "Venenoso"
         ],
         "legendgroup": "",
         "name": "",
         "showlegend": true,
         "textinfo": "percent+label",
         "textposition": "inside",
         "type": "pie",
         "values": {
          "bdata": "cBBMDw==",
          "dtype": "i2"
         }
        }
       ],
       "layout": {
        "legend": {
         "tracegroupgap": 0
        },
        "piecolorway": [
         "green",
         "red"
        ],
        "template": {
         "data": {
          "bar": [
           {
            "error_x": {
             "color": "#2a3f5f"
            },
            "error_y": {
             "color": "#2a3f5f"
            },
            "marker": {
             "line": {
              "color": "#E5ECF6",
              "width": 0.5
             },
             "pattern": {
              "fillmode": "overlay",
              "size": 10,
              "solidity": 0.2
             }
            },
            "type": "bar"
           }
          ],
          "barpolar": [
           {
            "marker": {
             "line": {
              "color": "#E5ECF6",
              "width": 0.5
             },
             "pattern": {
              "fillmode": "overlay",
              "size": 10,
              "solidity": 0.2
             }
            },
            "type": "barpolar"
           }
          ],
          "carpet": [
           {
            "aaxis": {
             "endlinecolor": "#2a3f5f",
             "gridcolor": "white",
             "linecolor": "white",
             "minorgridcolor": "white",
             "startlinecolor": "#2a3f5f"
            },
            "baxis": {
             "endlinecolor": "#2a3f5f",
             "gridcolor": "white",
             "linecolor": "white",
             "minorgridcolor": "white",
             "startlinecolor": "#2a3f5f"
            },
            "type": "carpet"
           }
          ],
          "choropleth": [
           {
            "colorbar": {
             "outlinewidth": 0,
             "ticks": ""
            },
            "type": "choropleth"
           }
          ],
          "contour": [
           {
            "colorbar": {
             "outlinewidth": 0,
             "ticks": ""
            },
            "colorscale": [
             [
              0,
              "#0d0887"
             ],
             [
              0.1111111111111111,
              "#46039f"
             ],
             [
              0.2222222222222222,
              "#7201a8"
             ],
             [
              0.3333333333333333,
              "#9c179e"
             ],
             [
              0.4444444444444444,
              "#bd3786"
             ],
             [
              0.5555555555555556,
              "#d8576b"
             ],
             [
              0.6666666666666666,
              "#ed7953"
             ],
             [
              0.7777777777777778,
              "#fb9f3a"
             ],
             [
              0.8888888888888888,
              "#fdca26"
             ],
             [
              1,
              "#f0f921"
             ]
            ],
            "type": "contour"
           }
          ],
          "contourcarpet": [
           {
            "colorbar": {
             "outlinewidth": 0,
             "ticks": ""
            },
            "type": "contourcarpet"
           }
          ],
          "heatmap": [
           {
            "colorbar": {
             "outlinewidth": 0,
             "ticks": ""
            },
            "colorscale": [
             [
              0,
              "#0d0887"
             ],
             [
              0.1111111111111111,
              "#46039f"
             ],
             [
              0.2222222222222222,
              "#7201a8"
             ],
             [
              0.3333333333333333,
              "#9c179e"
             ],
             [
              0.4444444444444444,
              "#bd3786"
             ],
             [
              0.5555555555555556,
              "#d8576b"
             ],
             [
              0.6666666666666666,
              "#ed7953"
             ],
             [
              0.7777777777777778,
              "#fb9f3a"
             ],
             [
              0.8888888888888888,
              "#fdca26"
             ],
             [
              1,
              "#f0f921"
             ]
            ],
            "type": "heatmap"
           }
          ],
          "histogram": [
           {
            "marker": {
             "pattern": {
              "fillmode": "overlay",
              "size": 10,
              "solidity": 0.2
             }
            },
            "type": "histogram"
           }
          ],
          "histogram2d": [
           {
            "colorbar": {
             "outlinewidth": 0,
             "ticks": ""
            },
            "colorscale": [
             [
              0,
              "#0d0887"
             ],
             [
              0.1111111111111111,
              "#46039f"
             ],
             [
              0.2222222222222222,
              "#7201a8"
             ],
             [
              0.3333333333333333,
              "#9c179e"
             ],
             [
              0.4444444444444444,
              "#bd3786"
             ],
             [
              0.5555555555555556,
              "#d8576b"
             ],
             [
              0.6666666666666666,
              "#ed7953"
             ],
             [
              0.7777777777777778,
              "#fb9f3a"
             ],
             [
              0.8888888888888888,
              "#fdca26"
             ],
             [
              1,
              "#f0f921"
             ]
            ],
            "type": "histogram2d"
           }
          ],
          "histogram2dcontour": [
           {
            "colorbar": {
             "outlinewidth": 0,
             "ticks": ""
            },
            "colorscale": [
             [
              0,
              "#0d0887"
             ],
             [
              0.1111111111111111,
              "#46039f"
             ],
             [
              0.2222222222222222,
              "#7201a8"
             ],
             [
              0.3333333333333333,
              "#9c179e"
             ],
             [
              0.4444444444444444,
              "#bd3786"
             ],
             [
              0.5555555555555556,
              "#d8576b"
             ],
             [
              0.6666666666666666,
              "#ed7953"
             ],
             [
              0.7777777777777778,
              "#fb9f3a"
             ],
             [
              0.8888888888888888,
              "#fdca26"
             ],
             [
              1,
              "#f0f921"
             ]
            ],
            "type": "histogram2dcontour"
           }
          ],
          "mesh3d": [
           {
            "colorbar": {
             "outlinewidth": 0,
             "ticks": ""
            },
            "type": "mesh3d"
           }
          ],
          "parcoords": [
           {
            "line": {
             "colorbar": {
              "outlinewidth": 0,
              "ticks": ""
             }
            },
            "type": "parcoords"
           }
          ],
          "pie": [
           {
            "automargin": true,
            "type": "pie"
           }
          ],
          "scatter": [
           {
            "fillpattern": {
             "fillmode": "overlay",
             "size": 10,
             "solidity": 0.2
            },
            "type": "scatter"
           }
          ],
          "scatter3d": [
           {
            "line": {
             "colorbar": {
              "outlinewidth": 0,
              "ticks": ""
             }
            },
            "marker": {
             "colorbar": {
              "outlinewidth": 0,
              "ticks": ""
             }
            },
            "type": "scatter3d"
           }
          ],
          "scattercarpet": [
           {
            "marker": {
             "colorbar": {
              "outlinewidth": 0,
              "ticks": ""
             }
            },
            "type": "scattercarpet"
           }
          ],
          "scattergeo": [
           {
            "marker": {
             "colorbar": {
              "outlinewidth": 0,
              "ticks": ""
             }
            },
            "type": "scattergeo"
           }
          ],
          "scattergl": [
           {
            "marker": {
             "colorbar": {
              "outlinewidth": 0,
              "ticks": ""
             }
            },
            "type": "scattergl"
           }
          ],
          "scattermap": [
           {
            "marker": {
             "colorbar": {
              "outlinewidth": 0,
              "ticks": ""
             }
            },
            "type": "scattermap"
           }
          ],
          "scattermapbox": [
           {
            "marker": {
             "colorbar": {
              "outlinewidth": 0,
              "ticks": ""
             }
            },
            "type": "scattermapbox"
           }
          ],
          "scatterpolar": [
           {
            "marker": {
             "colorbar": {
              "outlinewidth": 0,
              "ticks": ""
             }
            },
            "type": "scatterpolar"
           }
          ],
          "scatterpolargl": [
           {
            "marker": {
             "colorbar": {
              "outlinewidth": 0,
              "ticks": ""
             }
            },
            "type": "scatterpolargl"
           }
          ],
          "scatterternary": [
           {
            "marker": {
             "colorbar": {
              "outlinewidth": 0,
              "ticks": ""
             }
            },
            "type": "scatterternary"
           }
          ],
          "surface": [
           {
            "colorbar": {
             "outlinewidth": 0,
             "ticks": ""
            },
            "colorscale": [
             [
              0,
              "#0d0887"
             ],
             [
              0.1111111111111111,
              "#46039f"
             ],
             [
              0.2222222222222222,
              "#7201a8"
             ],
             [
              0.3333333333333333,
              "#9c179e"
             ],
             [
              0.4444444444444444,
              "#bd3786"
             ],
             [
              0.5555555555555556,
              "#d8576b"
             ],
             [
              0.6666666666666666,
              "#ed7953"
             ],
             [
              0.7777777777777778,
              "#fb9f3a"
             ],
             [
              0.8888888888888888,
              "#fdca26"
             ],
             [
              1,
              "#f0f921"
             ]
            ],
            "type": "surface"
           }
          ],
          "table": [
           {
            "cells": {
             "fill": {
              "color": "#EBF0F8"
             },
             "line": {
              "color": "white"
             }
            },
            "header": {
             "fill": {
              "color": "#C8D4E3"
             },
             "line": {
              "color": "white"
             }
            },
            "type": "table"
           }
          ]
         },
         "layout": {
          "annotationdefaults": {
           "arrowcolor": "#2a3f5f",
           "arrowhead": 0,
           "arrowwidth": 1
          },
          "autotypenumbers": "strict",
          "coloraxis": {
           "colorbar": {
            "outlinewidth": 0,
            "ticks": ""
           }
          },
          "colorscale": {
           "diverging": [
            [
             0,
             "#8e0152"
            ],
            [
             0.1,
             "#c51b7d"
            ],
            [
             0.2,
             "#de77ae"
            ],
            [
             0.3,
             "#f1b6da"
            ],
            [
             0.4,
             "#fde0ef"
            ],
            [
             0.5,
             "#f7f7f7"
            ],
            [
             0.6,
             "#e6f5d0"
            ],
            [
             0.7,
             "#b8e186"
            ],
            [
             0.8,
             "#7fbc41"
            ],
            [
             0.9,
             "#4d9221"
            ],
            [
             1,
             "#276419"
            ]
           ],
           "sequential": [
            [
             0,
             "#0d0887"
            ],
            [
             0.1111111111111111,
             "#46039f"
            ],
            [
             0.2222222222222222,
             "#7201a8"
            ],
            [
             0.3333333333333333,
             "#9c179e"
            ],
            [
             0.4444444444444444,
             "#bd3786"
            ],
            [
             0.5555555555555556,
             "#d8576b"
            ],
            [
             0.6666666666666666,
             "#ed7953"
            ],
            [
             0.7777777777777778,
             "#fb9f3a"
            ],
            [
             0.8888888888888888,
             "#fdca26"
            ],
            [
             1,
             "#f0f921"
            ]
           ],
           "sequentialminus": [
            [
             0,
             "#0d0887"
            ],
            [
             0.1111111111111111,
             "#46039f"
            ],
            [
             0.2222222222222222,
             "#7201a8"
            ],
            [
             0.3333333333333333,
             "#9c179e"
            ],
            [
             0.4444444444444444,
             "#bd3786"
            ],
            [
             0.5555555555555556,
             "#d8576b"
            ],
            [
             0.6666666666666666,
             "#ed7953"
            ],
            [
             0.7777777777777778,
             "#fb9f3a"
            ],
            [
             0.8888888888888888,
             "#fdca26"
            ],
            [
             1,
             "#f0f921"
            ]
           ]
          },
          "colorway": [
           "#636efa",
           "#EF553B",
           "#00cc96",
           "#ab63fa",
           "#FFA15A",
           "#19d3f3",
           "#FF6692",
           "#B6E880",
           "#FF97FF",
           "#FECB52"
          ],
          "font": {
           "color": "#2a3f5f"
          },
          "geo": {
           "bgcolor": "white",
           "lakecolor": "white",
           "landcolor": "#E5ECF6",
           "showlakes": true,
           "showland": true,
           "subunitcolor": "white"
          },
          "hoverlabel": {
           "align": "left"
          },
          "hovermode": "closest",
          "mapbox": {
           "style": "light"
          },
          "paper_bgcolor": "white",
          "plot_bgcolor": "#E5ECF6",
          "polar": {
           "angularaxis": {
            "gridcolor": "white",
            "linecolor": "white",
            "ticks": ""
           },
           "bgcolor": "#E5ECF6",
           "radialaxis": {
            "gridcolor": "white",
            "linecolor": "white",
            "ticks": ""
           }
          },
          "scene": {
           "xaxis": {
            "backgroundcolor": "#E5ECF6",
            "gridcolor": "white",
            "gridwidth": 2,
            "linecolor": "white",
            "showbackground": true,
            "ticks": "",
            "zerolinecolor": "white"
           },
           "yaxis": {
            "backgroundcolor": "#E5ECF6",
            "gridcolor": "white",
            "gridwidth": 2,
            "linecolor": "white",
            "showbackground": true,
            "ticks": "",
            "zerolinecolor": "white"
           },
           "zaxis": {
            "backgroundcolor": "#E5ECF6",
            "gridcolor": "white",
            "gridwidth": 2,
            "linecolor": "white",
            "showbackground": true,
            "ticks": "",
            "zerolinecolor": "white"
           }
          },
          "shapedefaults": {
           "line": {
            "color": "#2a3f5f"
           }
          },
          "ternary": {
           "aaxis": {
            "gridcolor": "white",
            "linecolor": "white",
            "ticks": ""
           },
           "baxis": {
            "gridcolor": "white",
            "linecolor": "white",
            "ticks": ""
           },
           "bgcolor": "#E5ECF6",
           "caxis": {
            "gridcolor": "white",
            "linecolor": "white",
            "ticks": ""
           }
          },
          "title": {
           "x": 0.05
          },
          "xaxis": {
           "automargin": true,
           "gridcolor": "white",
           "linecolor": "white",
           "ticks": "",
           "title": {
            "standoff": 15
           },
           "zerolinecolor": "white",
           "zerolinewidth": 2
          },
          "yaxis": {
           "automargin": true,
           "gridcolor": "white",
           "linecolor": "white",
           "ticks": "",
           "title": {
            "standoff": 15
           },
           "zerolinecolor": "white",
           "zerolinewidth": 2
          }
         }
        },
        "title": {
         "text": "Distribución Interactiva de Clases de Hongos"
        }
       }
      }
     },
     "metadata": {},
     "output_type": "display_data"
    }
   ],
   "source": [
    "# ============================================================================\n",
    "# 🔍 ANÁLISIS DE LA VARIABLE OBJETIVO (CLASS)\n",
    "# ============================================================================\n",
    "\"\"\"\n",
    "La variable 'class' es lo que queremos predecir:\n",
    "- 'e' = edible (comestible) ✅\n",
    "- 'p' = poisonous (venenoso) ☠️\n",
    "\"\"\"\n",
    "\n",
    "print(\"\\n\\n🎯 DISTRIBUCIÓN DE LA VARIABLE OBJETIVO:\")\n",
    "print(\"=\"*70)\n",
    "\n",
    "# Contamos cuántos hongos hay de cada clase\n",
    "conteo_clases = df['class'].value_counts()\n",
    "print(conteo_clases)\n",
    "\n",
    "# Calculamos el porcentaje\n",
    "porcentaje_clases = df['class'].value_counts(normalize=True) * 100\n",
    "print(f\"\\nPorcentajes:\")\n",
    "print(f\"Comestibles (e): {porcentaje_clases['e']:.2f}%\")\n",
    "print(f\"Venenosos (p): {porcentaje_clases['p']:.2f}%\")\n",
    "\n",
    "# Visualización 1: Gráfico de barras con Seaborn\n",
    "plt.figure(figsize=(10, 6))\n",
    "ax = sns.countplot(data=df, x='class', palette=['green', 'red'])\n",
    "plt.title('🍄 Distribución de Hongos: Comestibles vs Venenosos', \n",
    "          fontsize=16, fontweight='bold')\n",
    "plt.xlabel('Clase (e=comestible, p=venenoso)', fontsize=12)\n",
    "plt.ylabel('Cantidad de hongos', fontsize=12)\n",
    "\n",
    "# Añadimos etiquetas con los números en cada barra\n",
    "for container in ax.containers:\n",
    "    ax.bar_label(container, fontsize=11)\n",
    "\n",
    "plt.tight_layout()\n",
    "plt.show()\n",
    "\n",
    "# Visualización 2: Gráfico de pastel con Matplotlib\n",
    "fig, ax = plt.subplots(figsize=(8, 8))\n",
    "colores = ['#2ecc71', '#e74c3c']  # Verde para comestible, rojo para venenoso\n",
    "etiquetas = ['Comestible (e)', 'Venenoso (p)']\n",
    "ax.pie(conteo_clases, labels=etiquetas, autopct='%1.1f%%', \n",
    "       colors=colores, startangle=90, textprops={'fontsize': 12})\n",
    "ax.set_title('🍄 Proporción de Hongos Comestibles vs Venenosos', \n",
    "             fontsize=14, fontweight='bold', pad=20)\n",
    "plt.tight_layout()\n",
    "plt.show()\n",
    "\n",
    "# Visualización 3: Gráfico interactivo con Plotly\n",
    "fig_plotly = px.pie(\n",
    "    values=conteo_clases.values,\n",
    "    names=['Comestible', 'Venenoso'],\n",
    "    title='Distribución Interactiva de Clases de Hongos',\n",
    "    color_discrete_sequence=['green', 'red'],\n",
    "    hole=0.3  # Hace un gráfico de dona\n",
    ")\n",
    "fig_plotly.update_traces(textposition='inside', textinfo='percent+label')\n",
    "fig_plotly.show()\n"
   ]
  },
  {
   "cell_type": "code",
   "execution_count": 24,
   "id": "148259f0",
   "metadata": {},
   "outputs": [
    {
     "name": "stdout",
     "output_type": "stream",
     "text": [
      "\n",
      "\n",
      "❓ ANÁLISIS DE VALORES NULOS:\n",
      "======================================================================\n",
      "Valores nulos por columna:\n",
      "class                       0\n",
      "cap-shape                   0\n",
      "cap-surface                 0\n",
      "cap-color                   0\n",
      "bruises                     0\n",
      "odor                        0\n",
      "gill-attachment             0\n",
      "gill-spacing                0\n",
      "gill-size                   0\n",
      "gill-color                  0\n",
      "stalk-shape                 0\n",
      "stalk-root                  0\n",
      "stalk-surface-above-ring    0\n",
      "stalk-surface-below-ring    0\n",
      "stalk-color-above-ring      0\n",
      "stalk-color-below-ring      0\n",
      "veil-type                   0\n",
      "veil-color                  0\n",
      "ring-number                 0\n",
      "ring-type                   0\n",
      "spore-print-color           0\n",
      "population                  0\n",
      "habitat                     0\n",
      "dtype: int64\n",
      "\n",
      "Porcentaje de valores nulos por columna:\n",
      "class                       0.0\n",
      "cap-shape                   0.0\n",
      "cap-surface                 0.0\n",
      "cap-color                   0.0\n",
      "bruises                     0.0\n",
      "odor                        0.0\n",
      "gill-attachment             0.0\n",
      "gill-spacing                0.0\n",
      "gill-size                   0.0\n",
      "gill-color                  0.0\n",
      "stalk-shape                 0.0\n",
      "stalk-root                  0.0\n",
      "stalk-surface-above-ring    0.0\n",
      "stalk-surface-below-ring    0.0\n",
      "stalk-color-above-ring      0.0\n",
      "stalk-color-below-ring      0.0\n",
      "veil-type                   0.0\n",
      "veil-color                  0.0\n",
      "ring-number                 0.0\n",
      "ring-type                   0.0\n",
      "spore-print-color           0.0\n",
      "population                  0.0\n",
      "habitat                     0.0\n",
      "dtype: float64\n",
      "\n",
      "\n",
      "🔍 BÚSQUEDA DE VALORES '?' (VALORES FALTANTES):\n",
      "======================================================================\n",
      "Columnas con valores '?':\n",
      "stalk-root    2480\n",
      "dtype: int64\n",
      "\n",
      "Porcentaje de valores '?' por columna:\n",
      "stalk-root    30.526834\n",
      "dtype: float64\n"
     ]
    },
    {
     "data": {
      "image/png": "[encoded data removed]",
      "text/plain": [
       "<Figure size 1200x600 with 1 Axes>"
      ]
     },
     "metadata": {},
     "output_type": "display_data"
    }
   ],
   "source": [
    "# ============================================================================\n",
    "# 🔍 CONTEO DE VALORES NULOS (MISSING VALUES)\n",
    "# ============================================================================\n",
    "\"\"\"\n",
    "Los valores nulos son datos faltantes, como celdas vacías en Excel.\n",
    "Es importante detectarlos porque pueden afectar nuestros modelos.\n",
    "\"\"\"\n",
    "\n",
    "print(\"\\n\\n❓ ANÁLISIS DE VALORES NULOS:\")\n",
    "print(\"=\"*70)\n",
    "\n",
    "# Contamos cuántos valores nulos hay en cada columna\n",
    "valores_nulos = df.isnull().sum()\n",
    "print(\"Valores nulos por columna:\")\n",
    "print(valores_nulos)\n",
    "\n",
    "# Calculamos el porcentaje de valores nulos\n",
    "porcentaje_nulos = (df.isnull().sum() / len(df)) * 100\n",
    "print(\"\\nPorcentaje de valores nulos por columna:\")\n",
    "print(porcentaje_nulos)\n",
    "\n",
    "# En este dataset, los valores faltantes están codificados como '?'\n",
    "# Vamos a contarlos\n",
    "print(\"\\n\\n🔍 BÚSQUEDA DE VALORES '?' (VALORES FALTANTES):\")\n",
    "print(\"=\"*70)\n",
    "\n",
    "valores_interrogacion = (df == '?').sum()\n",
    "print(\"Columnas con valores '?':\")\n",
    "print(valores_interrogacion[valores_interrogacion > 0])\n",
    "\n",
    "# Porcentaje de '?' por columna\n",
    "porcentaje_interrogacion = (valores_interrogacion / len(df)) * 100\n",
    "print(\"\\nPorcentaje de valores '?' por columna:\")\n",
    "print(porcentaje_interrogacion[porcentaje_interrogacion > 0])\n",
    "\n",
    "# Visualización de valores faltantes\n",
    "if valores_interrogacion.sum() > 0:\n",
    "    plt.figure(figsize=(12, 6))\n",
    "    columnas_con_faltantes = valores_interrogacion[valores_interrogacion > 0]\n",
    "    plt.bar(columnas_con_faltantes.index, columnas_con_faltantes.values, color='coral')\n",
    "    plt.title('📊 Cantidad de Valores Faltantes por Columna', \n",
    "              fontsize=14, fontweight='bold')\n",
    "    plt.xlabel('Columnas', fontsize=12)\n",
    "    plt.ylabel('Cantidad de valores \"?\"', fontsize=12)\n",
    "    plt.xticks(rotation=45, ha='right')\n",
    "    plt.tight_layout()\n",
    "    plt.show()"
   ]
  },
  {
   "cell_type": "code",
   "execution_count": 25,
   "id": "a8b83066",
   "metadata": {},
   "outputs": [
    {
     "name": "stdout",
     "output_type": "stream",
     "text": [
      "\n",
      "\n",
      "🎨 VALORES ÚNICOS POR COLUMNA:\n",
      "======================================================================\n",
      "veil-type                    1\n",
      "class                        2\n",
      "gill-attachment              2\n",
      "gill-spacing                 2\n",
      "stalk-shape                  2\n",
      "gill-size                    2\n",
      "bruises                      2\n",
      "ring-number                  3\n",
      "stalk-surface-above-ring     4\n",
      "veil-color                   4\n",
      "cap-surface                  4\n",
      "stalk-surface-below-ring     4\n",
      "ring-type                    5\n",
      "stalk-root                   5\n",
      "cap-shape                    6\n",
      "population                   6\n",
      "habitat                      7\n",
      "odor                         9\n",
      "stalk-color-above-ring       9\n",
      "stalk-color-below-ring       9\n",
      "spore-print-color            9\n",
      "cap-color                   10\n",
      "gill-color                  12\n",
      "dtype: int64\n"
     ]
    },
    {
     "data": {
      "image/png": "[encoded data removed]",
      "text/plain": [
       "<Figure size 1400x600 with 1 Axes>"
      ]
     },
     "metadata": {},
     "output_type": "display_data"
    },
    {
     "name": "stdout",
     "output_type": "stream",
     "text": [
      "\n",
      "\n",
      "📋 VALORES ÚNICOS DETALLADOS:\n",
      "======================================================================\n",
      "\n",
      "class:\n",
      "  Cantidad: 2\n",
      "  Valores: ['p' 'e']\n",
      "\n",
      "cap-shape:\n",
      "  Cantidad: 6\n",
      "  Valores: ['x' 'b' 's' 'f' 'k' 'c']\n",
      "\n",
      "cap-surface:\n",
      "  Cantidad: 4\n",
      "  Valores: ['s' 'y' 'f' 'g']\n",
      "\n",
      "cap-color:\n",
      "  Cantidad: 10\n",
      "  Valores: ['n' 'y' 'w' 'g' 'e' 'p' 'b' 'u' 'c' 'r']\n",
      "\n",
      "bruises:\n",
      "  Cantidad: 2\n",
      "  Valores: ['t' 'f']\n",
      "\n",
      "odor:\n",
      "  Cantidad: 9\n",
      "  Valores: ['p' 'a' 'l' 'n' 'f' 'c' 'y' 's' 'm']\n",
      "\n",
      "gill-attachment:\n",
      "  Cantidad: 2\n",
      "  Valores: ['f' 'a']\n",
      "\n",
      "gill-spacing:\n",
      "  Cantidad: 2\n",
      "  Valores: ['c' 'w']\n",
      "\n",
      "gill-size:\n",
      "  Cantidad: 2\n",
      "  Valores: ['n' 'b']\n",
      "\n",
      "gill-color:\n",
      "  Cantidad: 12\n",
      "  Valores: ['k' 'n' 'g' 'p' 'w' 'h' 'u' 'e' 'b' 'r' 'y' 'o']\n",
      "\n",
      "stalk-shape:\n",
      "  Cantidad: 2\n",
      "  Valores: ['e' 't']\n",
      "\n",
      "stalk-root:\n",
      "  Cantidad: 5\n",
      "  Valores: ['e' 'c' 'b' 'r' '?']\n",
      "\n",
      "stalk-surface-above-ring:\n",
      "  Cantidad: 4\n",
      "  Valores: ['s' 'f' 'k' 'y']\n",
      "\n",
      "stalk-surface-below-ring:\n",
      "  Cantidad: 4\n",
      "  Valores: ['s' 'f' 'y' 'k']\n",
      "\n",
      "stalk-color-above-ring:\n",
      "  Cantidad: 9\n",
      "  Valores: ['w' 'g' 'p' 'n' 'b' 'e' 'o' 'c' 'y']\n",
      "\n",
      "stalk-color-below-ring:\n",
      "  Cantidad: 9\n",
      "  Valores: ['w' 'p' 'g' 'b' 'n' 'e' 'y' 'o' 'c']\n",
      "\n",
      "veil-type:\n",
      "  Cantidad: 1\n",
      "  Valores: ['p']\n",
      "\n",
      "veil-color:\n",
      "  Cantidad: 4\n",
      "  Valores: ['w' 'n' 'o' 'y']\n",
      "\n",
      "ring-number:\n",
      "  Cantidad: 3\n",
      "  Valores: ['o' 't' 'n']\n",
      "\n",
      "ring-type:\n",
      "  Cantidad: 5\n",
      "  Valores: ['p' 'e' 'l' 'f' 'n']\n",
      "\n",
      "spore-print-color:\n",
      "  Cantidad: 9\n",
      "  Valores: ['k' 'n' 'u' 'h' 'w' 'r' 'o' 'y' 'b']\n",
      "\n",
      "population:\n",
      "  Cantidad: 6\n",
      "  Valores: ['s' 'n' 'a' 'v' 'y' 'c']\n",
      "\n",
      "habitat:\n",
      "  Cantidad: 7\n",
      "  Valores: ['u' 'g' 'm' 'd' 'p' 'w' 'l']\n"
     ]
    }
   ],
   "source": [
    "# ============================================================================\n",
    "# 🔢 CONTEO DE VALORES ÚNICOS POR VARIABLE\n",
    "# ============================================================================\n",
    "\"\"\"\n",
    "Los valores únicos nos dicen cuántas categorías diferentes tiene cada variable.\n",
    "Por ejemplo: ¿cuántos colores diferentes de sombrero existen?\n",
    "\"\"\"\n",
    "\n",
    "print(\"\\n\\n🎨 VALORES ÚNICOS POR COLUMNA:\")\n",
    "print(\"=\"*70)\n",
    "\n",
    "valores_unicos = df.nunique().sort_values()\n",
    "print(valores_unicos)\n",
    "\n",
    "# Visualización de valores únicos\n",
    "plt.figure(figsize=(14, 6))\n",
    "valores_unicos.plot(kind='barh', color='skyblue', edgecolor='black')\n",
    "plt.title('📊 Número de Valores Únicos por Característica', \n",
    "          fontsize=14, fontweight='bold')\n",
    "plt.xlabel('Cantidad de valores únicos', fontsize=12)\n",
    "plt.ylabel('Características', fontsize=12)\n",
    "plt.tight_layout()\n",
    "plt.show()\n",
    "\n",
    "# Mostramos los valores únicos de cada columna\n",
    "print(\"\\n\\n📋 VALORES ÚNICOS DETALLADOS:\")\n",
    "print(\"=\"*70)\n",
    "for columna in df.columns:\n",
    "    valores = df[columna].unique()\n",
    "    print(f\"\\n{columna}:\")\n",
    "    print(f\"  Cantidad: {len(valores)}\")\n",
    "    print(f\"  Valores: {valores}\")"
   ]
  },
  {
   "cell_type": "code",
   "execution_count": 26,
   "id": "25790bd2",
   "metadata": {},
   "outputs": [
    {
     "name": "stdout",
     "output_type": "stream",
     "text": [
      "\n",
      "\n",
      "🗑️ IDENTIFICACIÓN DE COLUMNAS CONSTANTES:\n",
      "======================================================================\n",
      "❌ veil-type: tiene solo 1 valor único → ['p']\n",
      "\n",
      "🗑️ Se eliminarán 1 columna(s) constante(s)\n",
      "✅ Columnas eliminadas: ['veil-type']\n",
      "📊 Nuevas dimensiones: 8124 filas x 22 columnas\n",
      "\n",
      "======================================================================\n",
      "✅ PARTE 1 COMPLETADA: Carga y Exploración de Datos\n",
      "======================================================================\n",
      "\n",
      "📊 Dataset final para la siguiente etapa:\n",
      "   - Filas: 8124\n",
      "   - Columnas: 22\n",
      "   - Memoria usada: 8.52 MB\n",
      "\n",
      "🎯 Próximo paso: PREPROCESAMIENTO DE DATOS\n",
      "======================================================================\n"
     ]
    }
   ],
   "source": [
    "# ============================================================================\n",
    "# 🗑️ ELIMINACIÓN DE COLUMNAS CONSTANTES O POCO INFORMATIVAS\n",
    "# ============================================================================\n",
    "\"\"\"\n",
    "Las columnas constantes son aquellas que tienen el mismo valor en todas las filas.\n",
    "No aportan información útil para nuestro modelo, por lo que las eliminamos.\n",
    "\"\"\"\n",
    "\n",
    "print(\"\\n\\n🗑️ IDENTIFICACIÓN DE COLUMNAS CONSTANTES:\")\n",
    "print(\"=\"*70)\n",
    "\n",
    "# Buscamos columnas con solo 1 valor único\n",
    "columnas_constantes = []\n",
    "for columna in df.columns:\n",
    "    if df[columna].nunique() == 1:\n",
    "        columnas_constantes.append(columna)\n",
    "        print(f\"❌ {columna}: tiene solo 1 valor único → {df[columna].unique()}\")\n",
    "\n",
    "if len(columnas_constantes) > 0:\n",
    "    print(f\"\\n🗑️ Se eliminarán {len(columnas_constantes)} columna(s) constante(s)\")\n",
    "    df = df.drop(columns=columnas_constantes)\n",
    "    print(f\"✅ Columnas eliminadas: {columnas_constantes}\")\n",
    "    print(f\"📊 Nuevas dimensiones: {df.shape[0]} filas x {df.shape[1]} columnas\")\n",
    "else:\n",
    "    print(\"✅ No se encontraron columnas constantes\")\n",
    "\n",
    "print(\"\\n\" + \"=\"*70)\n",
    "print(\"✅ PARTE 1 COMPLETADA: Carga y Exploración de Datos\")\n",
    "print(\"=\"*70)\n",
    "print(f\"\\n📊 Dataset final para la siguiente etapa:\")\n",
    "print(f\"   - Filas: {df.shape[0]}\")\n",
    "print(f\"   - Columnas: {df.shape[1]}\")\n",
    "print(f\"   - Memoria usada: {df.memory_usage(deep=True).sum() / 1024**2:.2f} MB\")\n",
    "print(\"\\n🎯 Próximo paso: PREPROCESAMIENTO DE DATOS\")\n",
    "print(\"=\"*70)"
   ]
  }
 ],
 "metadata": {
  "kernelspec": {
   "display_name": ".vent",
   "language": "python",
   "name": "python3"
  },
  "language_info": {
   "codemirror_mode": {
    "name": "ipython",
    "version": 3
   },
   "file_extension": ".py",
   "mimetype": "text/x-python",
   "name": "python",
   "nbconvert_exporter": "python",
   "pygments_lexer": "ipython3",
   "version": "3.13.5"
  }
 },
 "nbformat": 4,
 "nbformat_minor": 5
}
